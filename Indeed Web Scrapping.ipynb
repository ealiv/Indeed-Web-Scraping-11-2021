{
 "cells": [
  {
   "cell_type": "markdown",
   "metadata": {},
   "source": [
    "#### Importing libraries"
   ]
  },
  {
   "cell_type": "code",
   "execution_count": 1,
   "metadata": {},
   "outputs": [],
   "source": [
    "from bs4 import BeautifulSoup\n",
    "import requests\n",
    "from datetime import datetime\n",
    "import pandas as pd"
   ]
  },
  {
   "cell_type": "markdown",
   "metadata": {},
   "source": [
    "#### Extracting Raw HTML"
   ]
  },
  {
   "cell_type": "code",
   "execution_count": 2,
   "metadata": {},
   "outputs": [],
   "source": [
    "url_temp = 'https://www.indeed.com/jobs?q={}&l={}&radius=100' #Data%20Scientist, New%20York"
   ]
  },
  {
   "cell_type": "code",
   "execution_count": 3,
   "metadata": {},
   "outputs": [],
   "source": [
    "def get_url(position, location):\n",
    "    template = url_temp.format(position, location)\n",
    "    url = template.format(position, location) \n",
    "    return url"
   ]
  },
  {
   "cell_type": "code",
   "execution_count": 4,
   "metadata": {},
   "outputs": [
    {
     "data": {
      "text/plain": [
       "'https://www.indeed.com/jobs?q=Accountant&l=San Francisco&radius=100'"
      ]
     },
     "execution_count": 4,
     "metadata": {},
     "output_type": "execute_result"
    }
   ],
   "source": [
    "get_url('Accountant', \"San Francisco\")"
   ]
  },
  {
   "cell_type": "markdown",
   "metadata": {},
   "source": [
    "#  "
   ]
  },
  {
   "cell_type": "markdown",
   "metadata": {},
   "source": [
    " "
   ]
  },
  {
   "cell_type": "markdown",
   "metadata": {},
   "source": [
    " "
   ]
  },
  {
   "cell_type": "markdown",
   "metadata": {},
   "source": [
    "##### Plugging in JOB POSITION and LOCATION "
   ]
  },
  {
   "cell_type": "code",
   "execution_count": 5,
   "metadata": {},
   "outputs": [
    {
     "data": {
      "text/plain": [
       "'https://www.indeed.com/jobs?q=Data Analyst&l=New York&radius=100'"
      ]
     },
     "execution_count": 5,
     "metadata": {},
     "output_type": "execute_result"
    }
   ],
   "source": [
    "get_url('Data Analyst', 'New York')"
   ]
  },
  {
   "cell_type": "markdown",
   "metadata": {},
   "source": [
    "##### To check if the connection is there "
   ]
  },
  {
   "cell_type": "code",
   "execution_count": 6,
   "metadata": {},
   "outputs": [],
   "source": [
    "url = 'https://www.indeed.com/jobs?q=data%20analyst&l=New%20York%2C%20NY&vjk=1f961d8306d040e1'"
   ]
  },
  {
   "cell_type": "code",
   "execution_count": 7,
   "metadata": {},
   "outputs": [
    {
     "name": "stdout",
     "output_type": "stream",
     "text": [
      "Yes, connection is there\n"
     ]
    }
   ],
   "source": [
    "headers = {'User-Agent' : 'Mozilla/5.0 (Macintosh; Intel Mac OS X 10_15_7) AppleWebKit/537.36 (KHTML, like Gecko) Chrome/94.0.4606.81 Safari/537.36'}\n",
    "\n",
    "response = requests.get(url, headers = headers) \n",
    "if response.status_code == requests.codes.ok:\n",
    "    print('Yes, connection is there')"
   ]
  },
  {
   "cell_type": "code",
   "execution_count": 8,
   "metadata": {},
   "outputs": [
    {
     "data": {
      "text/plain": [
       "'https://www.indeed.com/jobs?q=data%20analyst&l=New%20York%2C%20NY&vjk=1f961d8306d040e1'"
      ]
     },
     "execution_count": 8,
     "metadata": {},
     "output_type": "execute_result"
    }
   ],
   "source": [
    "url"
   ]
  },
  {
   "cell_type": "code",
   "execution_count": 123,
   "metadata": {},
   "outputs": [],
   "source": [
    "data = {\n",
    "    'job_title' : [],\n",
    "    'comp_name' : [],\n",
    "    'location' : [],\n",
    "    'salary' : [],\n",
    "    #'skills' : [],\n",
    "    #'work_exp' : [],\n",
    "    'post_url' : []\n",
    "}\n"
   ]
  },
  {
   "cell_type": "markdown",
   "metadata": {},
   "source": [
    "#  "
   ]
  },
  {
   "cell_type": "markdown",
   "metadata": {},
   "source": [
    " "
   ]
  },
  {
   "cell_type": "markdown",
   "metadata": {},
   "source": [
    "#### Getting everything from a single page "
   ]
  },
  {
   "cell_type": "code",
   "execution_count": 117,
   "metadata": {},
   "outputs": [],
   "source": [
    "#def extract(position, location): \n",
    "    #headers = {'User-Agent' : 'Mozilla/5.0 (Macintosh; Intel Mac OS X 10_15_7) AppleWebKit/537.36 (KHTML, like Gecko) Chrome/94.0.4606.81 Safari/537.36'}\n",
    "    #url = f'https://www.indeed.com/jobs?q={position}&l={location}&radius=50'\n",
    "    #url = template.format(position, location)\n",
    "    #url = f'https://www.indeed.com/jobs?q=data%20analyst&l=New%20York%2C%20NY&start={page}&vjk=1f961d8306d040e1'\n",
    "    #r = requests.get(url, headers)\n",
    "    #if r.status_code == requests.codes.ok\n",
    "    #print('Yes, connection is there')\n",
    "    #soup = BeautifulSoup(r.content, 'html.parser')\n",
    "    \n",
    "    #for page in soup.find_all('tbody'): #outter most tbody(alsmost the whole page) and going down \n",
    "        #trs = page.find('tr')\n",
    "        #for i in trs.find_all('a', href = True): # gets all <a></a>'s\n",
    "            #if i.find('a', href = True): # gets <a></a>'s for each job posts\n",
    "                #job_url = 'https://www.indeed.com' + i['href']\n",
    "                #print(job_url)\n",
    "                #data['post_url'].append(job_url)   \n",
    "    #return soup\n",
    "\n",
    "def extract(page): \n",
    "    headers = {'User-Agent' : 'Mozilla/5.0 (Macintosh; Intel Mac OS X 10_15_7) AppleWebKit/537.36 (KHTML, like Gecko) Chrome/94.0.4606.81 Safari/537.36'}\n",
    "    url = f'https://www.indeed.com/jobs?q=data%20analyst&l=New%20York%2C%20NY&start={page}&vjk=1f961d8306d040e1'\n",
    "    r = requests.get(url, headers)\n",
    "    #if r.status_code == requests.codes.ok\n",
    "    #print('Yes, connection is there')\n",
    "    soup = BeautifulSoup(r.content, 'html.parser')\n",
    "    return soup\n",
    "\n",
    "def transform(soup):\n",
    "    divs = soup.find_all('div', {'class' : 'job_seen_beacon'}) #slider_container also works\n",
    "    #print(divs)\n",
    "    \n",
    "    \"\"\"\"Getting a job title\"\"\"\n",
    "    for k in divs:\n",
    "        #title = k.find('span').text #eto kogda [0] - has 'new' items \n",
    "        #title = k.find('div', 'jobTitle jobTitle-color-purple').text #[1]\n",
    "        #if k.find('span').text == 'new':\n",
    "        title = k.find('h2', 'jobTitle', 'title').text.strip('new')\n",
    "        \n",
    "        #print(title)\n",
    "        data['job_title'].append(title)\n",
    "   \n",
    "    \"\"\"\"Getting a company name\"\"\"\n",
    "    for l in divs:\n",
    "        #company_name = l.find('span', {'class':'companyName'}).text\n",
    "        company_name = l.find('span', 'companyName').text\n",
    "        #print(company_name)\n",
    "        data['comp_name'].append(company_name)\n",
    "                \n",
    "    \"\"\"\"Getting a location\"\"\"\n",
    "    for m in divs:\n",
    "        location = m.find('div', {'class': 'companyLocation'}).text\n",
    "        #print(location)\n",
    "        data['location'].append(location)\n",
    "        \n",
    "    \"\"\"\"Getting a salary if it is available\"\"\"\n",
    "    for n in divs:\n",
    "        if n.find_all('div', {'class': 'heading6 tapItem-gutter metadataContainer noJEMChips salaryOnly'}):\n",
    "            for o in n.find_all('div', {'class': 'heading6 tapItem-gutter metadataContainer noJEMChips salaryOnly'}):\n",
    "                salary = o.text\n",
    "                data['salary'].append(salary)\n",
    "        else:\n",
    "            salary = 'None'\n",
    "            data['salary'].append(salary)\n",
    "        #print(salary)\n",
    "        \n",
    "    \"\"\"\"Getting job URLs\"\"\"  \n",
    "    for page in soup.find_all('tbody'): #outter most tbody(alsmost the whole page) and going down \n",
    "        trs = page.find('tr')\n",
    "        for i in trs.find_all('a', href = True): # gets all <a></a>'s\n",
    "            if i.find('a', href = True): # gets <a></a>'s for each job posts\n",
    "                job_url = 'https://www.indeed.com' + i['href']\n",
    "                #print(job_url)\n",
    "                data['post_url'].append(job_url)\n",
    "                "
   ]
  },
  {
   "cell_type": "code",
   "execution_count": 124,
   "metadata": {},
   "outputs": [],
   "source": [
    "c = extract(10)\n",
    "transform(c)"
   ]
  },
  {
   "cell_type": "code",
   "execution_count": 125,
   "metadata": {},
   "outputs": [
    {
     "data": {
      "text/plain": [
       "{'job_title': ['Data Quality Analyst',\n",
       "  'Business Analyst',\n",
       "  'Data Analyst',\n",
       "  'Data and Visualization Specialist',\n",
       "  'Data Analyst',\n",
       "  'Junior Analyst',\n",
       "  'Junior Data Analyst',\n",
       "  'Data Analyst',\n",
       "  'Data & Policy Analyst',\n",
       "  \"Data Analyst (Legal support) Supporting the US Attorney's Of...\",\n",
       "  'Exemptions Data Analyst',\n",
       "  'Data Analyst',\n",
       "  'Quality Assurance Analyst 100% Remot',\n",
       "  'Entry Level Business Analyst',\n",
       "  'Data Analyst'],\n",
       " 'comp_name': ['NYC Careers',\n",
       "  'The Mom Project',\n",
       "  'Brooksource',\n",
       "  'Talenthub Worldwide, Inc.',\n",
       "  'Network Rail Consulting',\n",
       "  'BNY Mellon',\n",
       "  'Evalueserve',\n",
       "  'Fidelis Care',\n",
       "  'NYC DEPARTMENT OF FINANCE',\n",
       "  'FSA Federal',\n",
       "  'NYC Careers',\n",
       "  'NYC Criminal Justice Agency',\n",
       "  'Actalent',\n",
       "  'CloudServiceTek',\n",
       "  'Columbia University'],\n",
       " 'location': ['Brooklyn, NY 11201',\n",
       "  'New York, NY',\n",
       "  'New York, NY•Temporarily Remote',\n",
       "  'New York, NY•Remote',\n",
       "  'New York, NY 10018 (Clinton area)',\n",
       "  'New York, NY',\n",
       "  'New York, NY•Temporarily Remote',\n",
       "  'Long Island City, NY 11101',\n",
       "  'Brooklyn, NY 11201',\n",
       "  'New York, NY 10007 (Financial District area)',\n",
       "  'Manhattan, NY 10038 (Financial District area)',\n",
       "  'New York, NY',\n",
       "  'New York, NY 10001 (Chelsea area)•Remote',\n",
       "  'New York, NY•Temporarily Remote',\n",
       "  'New York, NY'],\n",
       " 'salary': ['$84,468 - $97,138 a year',\n",
       "  '$82 an hour',\n",
       "  '$38 - $42 an hour',\n",
       "  'Up to $40 an hour',\n",
       "  'None',\n",
       "  'None',\n",
       "  'None',\n",
       "  'None',\n",
       "  '$75,504 - $86,830 a year',\n",
       "  'None',\n",
       "  '$75,504 - $86,830 a year',\n",
       "  '$58,000 - $62,000 a year',\n",
       "  '$23.50 an hour',\n",
       "  '$60,000 - $80,000 a year',\n",
       "  'None'],\n",
       " 'post_url': ['https://www.indeed.com/rc/clk?jk=7cf3e34575ccab27&fccid=f97367b3ac9546b1&vjs=3',\n",
       "  'https://www.indeed.com/pagead/clk?mo=r&ad=-6NYlbfkN0BhNN3PPgKPbTMZB0Y0J5JTZS3FnMM-ugqbblX4_m-srDJielPNCs_lvQXXEB0CV7OLe63N4KvXy_HgVoauX6cuMHTR01VhdLSZ04hFmzuVkz3nxIH-wUgqOpcKo8eBCchyqF175cBANPQolPljNQkyV0JhpSYlYKa7N5SSR9Puv1ZiGvMbkgO4tTV-wlW03o8NYfvUQ1Jz0lK_MYy313yG2wgP92_5x50O5ESb-bive0Xrb_ihkzvas6qmZgaQd5dTpPqIn1HypDaFxE4OblLGvF9Yo-K-AcAGoTmEbN-Jqg4CnnnM7lyStF_UA-Co6BDxBNf_HHeQEIrSuAxGp8wh_SK8u7JQZ8IjEyI5gELxwXY3VIyIgZ0lXW46KHShIP6iwoxPSSbV2h87qx71OhB6g5nNGlJqduvfvR0HKoS4R8I-o3v-iUpcM6llul1cd9m8Zq-YBB5-Z_OZoK7fHhsfynME-kuEhuUrI5ck_UYBlQ==&p=2&fvj=1&vjs=3',\n",
       "  'https://www.indeed.com/rc/clk?jk=0399382bb6cbe1e9&fccid=80978987802d9729&vjs=3',\n",
       "  'https://www.indeed.com/company/BNY-Mellon/jobs/Junior-Analyst-860e404de0fbe305?fccid=b4048be2884af072&vjs=3',\n",
       "  'https://www.indeed.com/company/Evalueserve/jobs/Junior-Data-Analyst-3bf690c7f8d05ba1?fccid=e47b99270f9cbc59&vjs=3',\n",
       "  'https://www.indeed.com/rc/clk?jk=1e85ec30b1108c92&fccid=5ece327da33e0274&vjs=3',\n",
       "  'https://www.indeed.com/rc/clk?jk=fa7ab11b2f3d50ce&fccid=b69c76ab700a8eb3&vjs=3',\n",
       "  'https://www.indeed.com/pagead/clk?mo=r&ad=-6NYlbfkN0AK9q-cQKnf3DfHR64avwMzIcXVxwit4OIbhS0fZYeNhvY1IRVnFZKIZbSdKeT9Hyp9zMflrJxeQBChD6DrBBA1eiAMQlHa3qW3IFLEnBiTobPNBtAhvDaFq24eKhs6T5to7Y3OB7WBbG_o52wHS-F3naeNTM_qaMF2-juETJ_Bi5zisxHSPU31W6scThIXj0ulPtolaoU4PoyrPPxciPWwLYIw6I5UEwGjBh_pByFQ6n_mBTcVDRHT_PmZlldJhKPIArpYOuremwCyww9E7ktV0ggSevaFPmKR0qlIFfOGWKbBPjv0sP-sdvfISz4FvB5dpnw-D8rvkEfAgAKuFxS7QYo9M4-PefNe2LdXr2sDeH_ritchaM01sQmiNTtJIzIVuHMjesQ-O0xWzVRwFgclVWp5IkQz-Nh1uLn0RsEsc9NVmkOHRjGIhMqdVfq8lm6ii9SF7HzUyIgnHIglOciBJSPJPHpNjMtmv5RmY7TEZecfRcGQl-1E-ligsXwqlydJUBqIJLGV3_e3-v7_PbYloJYZRECOxguVwFna8dn2Yb3_m8bHlC-XnBbSsm5fl4w1TD9nPGr94tO8o0h4wNKb&p=9&fvj=0&vjs=3',\n",
       "  'https://www.indeed.com/rc/clk?jk=1a6619d6f5ad068d&fccid=f97367b3ac9546b1&vjs=3',\n",
       "  'https://www.indeed.com/rc/clk?jk=20cf83234765b5b9&fccid=4bd80c540cce814b&vjs=3',\n",
       "  'https://www.indeed.com/pagead/clk?mo=r&ad=-6NYlbfkN0ChYVx_I3yfZ_JDY3EFoivtqvi_stwnZ_kRt8Dowt_l_d1ydueao4NE-oUleRJ4yhicLpR2iGXXW96gUJCMkIHhCNVCQxNSyLWH7qVp5kN4-8ErT9--10U0uFG5iFjZmgIXuT1peKEBg2uwZcDhqedij6_1XTJg_Ds0ZKB5sihKAQRL5eOm6DuUV5hAUoIkcHLpAzAOEZOadL2NezDWrtlpBa59cDFuM8hBDk2T9a_ysNK_sthHAENTL_qjMGgfyzgh5GWP1V-cC24fR_bW6GcLVROkPDixlZw5nJxhbVf6KvAI1vQWLWHMQmp5zOwjpflvA3LalPbYZ3WpfkQLWp2d7cNTDcUaMncpMxk0sFx2dJNEogbwBa_TVJMGbP5KLdvTIudHpX_Kbw6Cm6ivJL6lvR3Voq5h6uBwOFu9sfqZ53prt1l24EIZTQBuT99zIi9miyEfDzIoAKwAODuhbhrwtWSCuPLBBFl-a-4eIr5fsiLpONn9Sm1PWmgoefKqc3krw5Ro6Zwe7h86dhWWLH7aTPjoJ2CPCWlxvcFeReRGyRvjBWzwqRdXw7l6n3YBMsQGiL3WsyimGsB_rV16ubxVc-FQO7walMLvHgVaHht-pULNvwA4Kp6Xrboi0L4DkSuqt-CNu3cs1HUfKWKEU8_DA1qurP4sIi-qsMCD6OvsBESKoTM_LgjTX0F0In70yJR3Iz8_zG_yCzalqa0MJSKJUw2jlHIs7Bm2pKTDYYdbCIp3Q5R_ip-3Hpn5bzYTE-mFMLHa0WxhuHamEk75tKURHV93FkKK1TQ8I_ssUS0Zt86i1ab2oeUWAVoT277KAS5oDrI1TlvOjPKI9b-prTWxzcqVM5tCrnLGUD185MklvMP2DnezaJHYoI72Lv7pieJghjvN_evARAtrT7-bDiHYg-yPwVBOFGAiuNSzl_itvCCIAPXzVzf0SOqjmsYCLDPuPXhsFYooxr95OOc1I5uk8OdT8mSAyTQkiRQgu_bEqQ==&p=12&fvj=0&vjs=3',\n",
       "  'https://www.indeed.com/company/CloudServiceTek/jobs/Entry-Level-Business-Analyst-a357eb28829dcc19?fccid=5de1fafcbe6b6997&vjs=3',\n",
       "  'https://www.indeed.com/rc/clk?jk=6ec23c02563292c3&fccid=bd976cc171c690e0&vjs=3']}"
      ]
     },
     "execution_count": 125,
     "metadata": {},
     "output_type": "execute_result"
    }
   ],
   "source": [
    "data"
   ]
  },
  {
   "cell_type": "code",
   "execution_count": 126,
   "metadata": {},
   "outputs": [
    {
     "name": "stdout",
     "output_type": "stream",
     "text": [
      "15\n",
      "15\n",
      "15\n",
      "15\n",
      "13\n"
     ]
    }
   ],
   "source": [
    "print(len(data['job_title']))\n",
    "print(len(data['comp_name']))\n",
    "print(len(data['location']))\n",
    "print(len(data['salary']))\n",
    "print(len(data['post_url']))"
   ]
  },
  {
   "cell_type": "code",
   "execution_count": null,
   "metadata": {},
   "outputs": [],
   "source": []
  },
  {
   "cell_type": "code",
   "execution_count": null,
   "metadata": {},
   "outputs": [],
   "source": []
  },
  {
   "cell_type": "code",
   "execution_count": null,
   "metadata": {},
   "outputs": [],
   "source": []
  },
  {
   "cell_type": "code",
   "execution_count": null,
   "metadata": {},
   "outputs": [],
   "source": []
  },
  {
   "cell_type": "code",
   "execution_count": null,
   "metadata": {},
   "outputs": [],
   "source": []
  },
  {
   "cell_type": "markdown",
   "metadata": {},
   "source": [
    "#### Going through pages using range() function"
   ]
  },
  {
   "cell_type": "code",
   "execution_count": 146,
   "metadata": {},
   "outputs": [],
   "source": [
    "for i in range(0,200,10):\n",
    "    c = extract('data scientist', 'san francisco')\n",
    "    transform(c)\n",
    "#print(len(data['job_title']))\n",
    "#print(len(data['comp_name']))\n",
    "#print(len(data['location']))\n",
    "#print(len(data['salary']))\n",
    "#print(len(data['post_url']))\n"
   ]
  },
  {
   "cell_type": "markdown",
   "metadata": {},
   "source": [
    " "
   ]
  },
  {
   "cell_type": "markdown",
   "metadata": {},
   "source": [
    " "
   ]
  },
  {
   "cell_type": "code",
   "execution_count": 148,
   "metadata": {},
   "outputs": [
    {
     "name": "stdout",
     "output_type": "stream",
     "text": [
      "315\n",
      "315\n",
      "315\n",
      "315\n",
      "255\n"
     ]
    }
   ],
   "source": [
    "print(len(data['job_title']))\n",
    "print(len(data['comp_name']))\n",
    "print(len(data['location']))\n",
    "print(len(data['salary']))\n",
    "print(len(data['post_url']))"
   ]
  },
  {
   "cell_type": "code",
   "execution_count": null,
   "metadata": {},
   "outputs": [],
   "source": []
  },
  {
   "cell_type": "code",
   "execution_count": null,
   "metadata": {},
   "outputs": [],
   "source": []
  },
  {
   "cell_type": "code",
   "execution_count": null,
   "metadata": {},
   "outputs": [],
   "source": []
  },
  {
   "cell_type": "markdown",
   "metadata": {},
   "source": [
    "#  "
   ]
  },
  {
   "cell_type": "markdown",
   "metadata": {},
   "source": [
    "#### Getting next page by finding paginator "
   ]
  },
  {
   "cell_type": "code",
   "execution_count": null,
   "metadata": {},
   "outputs": [],
   "source": [
    "headers = {'User-Agent' : 'Mozilla/5.0 (Macintosh; Intel Mac OS X 10_15_7) AppleWebKit/537.36 (KHTML, like Gecko) Chrome/94.0.4606.81 Safari/537.36'}\n",
    "url = 'https://www.indeed.com/jobs?q=data%20analyst&l=New%20York%2C%20NY&start=0&vjk=1f961d8306d040e1'\n",
    "r = requests.get(url, headers)\n",
    "    #if r.status_code == requests.codes.ok\n",
    "    #print('Yes, connection is there')\n",
    "soup = BeautifulSoup(r.content, 'html.parser')\n",
    "soup.find('a', {'aria-label' : 'Next'}).get('href') #this gets us the URL of the next page\n",
    "\n",
    "\n",
    "\n"
   ]
  },
  {
   "cell_type": "code",
   "execution_count": 180,
   "metadata": {},
   "outputs": [],
   "source": [
    "data = {\n",
    "    'job_title' : [],\n",
    "    'comp_name' : [],\n",
    "    'location' : [],\n",
    "    'salary' : [],\n",
    "    #'skills' : [],\n",
    "    #'work_exp' : [],\n",
    "    'post_url' : []\n",
    "}"
   ]
  },
  {
   "cell_type": "code",
   "execution_count": null,
   "metadata": {},
   "outputs": [],
   "source": []
  },
  {
   "cell_type": "markdown",
   "metadata": {},
   "source": [
    "#### Putting everything together with page paginator  "
   ]
  },
  {
   "cell_type": "code",
   "execution_count": 179,
   "metadata": {},
   "outputs": [],
   "source": [
    "data = {\n",
    "    'job_title' : [],\n",
    "    'comp_name' : [],\n",
    "    'location' : [],\n",
    "    'salary' : [],\n",
    "    #'skills' : [],\n",
    "    #'work_exp' : [],\n",
    "    'post_url' : []\n",
    "}\n",
    "\n",
    "\n",
    "def extract(position, location): \n",
    "    headers = {'User-Agent' : 'Mozilla/5.0 (Macintosh; Intel Mac OS X 10_15_7) AppleWebKit/537.36 (KHTML, like Gecko) Chrome/94.0.4606.81 Safari/537.36'}\n",
    "    template = 'https://www.indeed.com/jobs?q={}&l={}&radius=50'\n",
    "    url = template.format(position, location)\n",
    "    #url = f'https://www.indeed.com/jobs?q=data%20analyst&l=New%20York%2C%20NY&start={page}&vjk=1f961d8306d040e1'\n",
    "    r = requests.get(url, headers)\n",
    "    #if r.status_code == requests.codes.ok\n",
    "    #print('Yes, connection is there')\n",
    "    soup = BeautifulSoup(r.content, 'html.parser')\n",
    "    return soup\n",
    "\n",
    "def transform(soup):\n",
    "    divs = soup.find_all('div', {'class' : 'job_seen_beacon'}) #slider_container also works\n",
    "    #print(divs)\n",
    "    \n",
    "    \"\"\"\"Getting a job title\"\"\"\n",
    "    for k in divs:\n",
    "        #title = k.find('span').text #eto kogda [0] - has 'new' items \n",
    "        #title = k.find('div', 'jobTitle jobTitle-color-purple').text #[1]\n",
    "        #if k.find('span').text == 'new':\n",
    "        title = k.find('h2', 'jobTitle', 'title').text.strip('new')\n",
    "        \n",
    "        #print(title)\n",
    "        data['job_title'].append(title)\n",
    "   \n",
    "    \"\"\"\"Getting a company name\"\"\"\n",
    "    for l in divs:\n",
    "        #company_name = l.find('span', {'class':'companyName'}).text\n",
    "        company_name = l.find('span', 'companyName').text\n",
    "        #print(company_name)\n",
    "        data['comp_name'].append(company_name)\n",
    "                \n",
    "    \"\"\"\"Getting a location\"\"\"\n",
    "    for m in divs:\n",
    "        location = m.find('div', {'class': 'companyLocation'}).text\n",
    "        #print(location)\n",
    "        data['location'].append(location)\n",
    "        \n",
    "    \"\"\"\"Getting a salary if it is available\"\"\"\n",
    "    for n in divs:\n",
    "        if n.find_all('div', {'class': 'heading6 tapItem-gutter metadataContainer noJEMChips salaryOnly'}):\n",
    "            for o in n.find_all('div', {'class': 'heading6 tapItem-gutter metadataContainer noJEMChips salaryOnly'}):\n",
    "                salary = o.text\n",
    "                data['salary'].append(salary)\n",
    "        else:\n",
    "            salary = 'None'\n",
    "            data['salary'].append(salary)\n",
    "        #print(salary)\n",
    "        \n",
    "    \"\"\"\"Getting job URLs\"\"\"  \n",
    "    for page in soup.find_all('tbody'): #outter most tbody(alsmost the whole page) and going down \n",
    "        trs = page.find('tr')\n",
    "        for i in trs.find_all('a', href = True): # gets all <a></a>'s\n",
    "            if i.find('a', href = True): # gets <a></a>'s for each job posts\n",
    "                job_url = 'https://www.indeed.com' + i['href']\n",
    "                #print(job_url)\n",
    "                data['post_url'].append(job_url)\n"
   ]
  },
  {
   "cell_type": "code",
   "execution_count": 183,
   "metadata": {},
   "outputs": [
    {
     "name": "stdout",
     "output_type": "stream",
     "text": [
      "https://www.indeed.com/company/SD-Mayer-and-Associates/jobs/Staff-Accountant-03a1d9298dec59d3?fccid=077e6eb877b48fc1&vjs=3\n",
      "https://www.indeed.com/rc/clk?jk=03471806201086ce&fccid=de115aaf8dbb353e&vjs=3\n",
      "https://www.indeed.com/company/FriendFinder-Networks/jobs/Junior-Accountant-dfd6abc45f8d0b92?fccid=702c7d72f9a9a730&vjs=3\n",
      "https://www.indeed.com/rc/clk?jk=cd31a68fef986bc7&fccid=807f5e2015618bb2&vjs=3\n",
      "https://www.indeed.com/rc/clk?jk=efc30142e7e2c090&fccid=2a341562d64c7cdb&vjs=3\n",
      "https://www.indeed.com/company/Page-&-Turnbull/jobs/Part-Time-Accountant-4bbbd778e065b90a?fccid=dff50c6a548bec90&vjs=3\n",
      "https://www.indeed.com/company/Juniper-Square/jobs/Associate-Fund-Accountant-d47e4a78ca5e3a91?fccid=1b53a4c49b4135ed&vjs=3\n",
      "https://www.indeed.com/rc/clk?jk=572e35161071f53f&fccid=4027cfd917e1ee29&vjs=3\n",
      "https://www.indeed.com/company/Zumper/jobs/Account-Payable-Accountant-9a505eafc9d0ccfd?fccid=68b09cbcad949ffc&vjs=3\n",
      "https://www.indeed.com/rc/clk?jk=b98ea18b44f479ef&fccid=d47acb5b5596d9e4&vjs=3\n",
      "https://www.indeed.com/rc/clk?jk=34b610dc7edb23af&fccid=02c3642d72b15da7&vjs=3\n",
      "https://www.indeed.com/rc/clk?jk=72aefa5cc8fd6dde&fccid=2b629476ef0e85ce&vjs=3\n",
      "https://www.indeed.com/rc/clk?jk=d8e4b96f11993725&fccid=a411072d5a46f13f&vjs=3\n",
      "https://www.indeed.com/rc/clk?jk=5f4643f8fbd3ae76&fccid=8d0ce3817d129779&vjs=3\n"
     ]
    }
   ],
   "source": [
    "c = extract('Data Scientist', 'Chicago')\n",
    "transform(c)"
   ]
  },
  {
   "cell_type": "code",
   "execution_count": null,
   "metadata": {},
   "outputs": [],
   "source": []
  },
  {
   "cell_type": "code",
   "execution_count": 154,
   "metadata": {},
   "outputs": [],
   "source": [
    "data_df = pd.DataFrame(data)"
   ]
  },
  {
   "cell_type": "code",
   "execution_count": 155,
   "metadata": {},
   "outputs": [
    {
     "data": {
      "text/html": [
       "<div>\n",
       "<style scoped>\n",
       "    .dataframe tbody tr th:only-of-type {\n",
       "        vertical-align: middle;\n",
       "    }\n",
       "\n",
       "    .dataframe tbody tr th {\n",
       "        vertical-align: top;\n",
       "    }\n",
       "\n",
       "    .dataframe thead th {\n",
       "        text-align: right;\n",
       "    }\n",
       "</style>\n",
       "<table border=\"1\" class=\"dataframe\">\n",
       "  <thead>\n",
       "    <tr style=\"text-align: right;\">\n",
       "      <th></th>\n",
       "      <th>job_title</th>\n",
       "      <th>comp_name</th>\n",
       "      <th>location</th>\n",
       "      <th>salary</th>\n",
       "      <th>post_url</th>\n",
       "    </tr>\n",
       "  </thead>\n",
       "  <tbody>\n",
       "    <tr>\n",
       "      <th>0</th>\n",
       "      <td>Senior Data Scientist - Ranking Team</td>\n",
       "      <td>Indeed</td>\n",
       "      <td>Chicago, IL•Temporarily Remote</td>\n",
       "      <td>$123,000 - $179,000 a year</td>\n",
       "      <td>https://www.indeed.com/pagead/clk?mo=r&amp;ad=-6NY...</td>\n",
       "    </tr>\n",
       "    <tr>\n",
       "      <th>1</th>\n",
       "      <td>Data Scientist</td>\n",
       "      <td>Nielsen</td>\n",
       "      <td>Chicago, IL•Remote</td>\n",
       "      <td>None</td>\n",
       "      <td>https://www.indeed.com/rc/clk?jk=9b8e8f066872d...</td>\n",
       "    </tr>\n",
       "    <tr>\n",
       "      <th>2</th>\n",
       "      <td>Data Scientist</td>\n",
       "      <td>Oak Street Health</td>\n",
       "      <td>Chicago, IL 60603 (The Loop area)•Remote</td>\n",
       "      <td>None</td>\n",
       "      <td>https://www.indeed.com/rc/clk?jk=d66dd8400f1e9...</td>\n",
       "    </tr>\n",
       "    <tr>\n",
       "      <th>3</th>\n",
       "      <td>Data Scientist</td>\n",
       "      <td>Blue Cross Blue Shield of IL, MT, NM, OK &amp; TX</td>\n",
       "      <td>Chicago, IL+5 locations</td>\n",
       "      <td>None</td>\n",
       "      <td>https://www.indeed.com/rc/clk?jk=058f056bddd78...</td>\n",
       "    </tr>\n",
       "    <tr>\n",
       "      <th>4</th>\n",
       "      <td>Sr. Data Scientist-Direct Hire (No Subcontractor)</td>\n",
       "      <td>Modernagile Technologies</td>\n",
       "      <td>Chicago, IL</td>\n",
       "      <td>$110,000 - $120,000 a year</td>\n",
       "      <td>https://www.indeed.com/company/Modernagile-Tec...</td>\n",
       "    </tr>\n",
       "    <tr>\n",
       "      <th>5</th>\n",
       "      <td>Data Scientist</td>\n",
       "      <td>Eligo Energy, LLC</td>\n",
       "      <td>Chicago, IL</td>\n",
       "      <td>None</td>\n",
       "      <td>https://www.indeed.com/company/Eligo-Energy,-L...</td>\n",
       "    </tr>\n",
       "    <tr>\n",
       "      <th>6</th>\n",
       "      <td>Junior Data Scientist</td>\n",
       "      <td>Abbott Laboratories</td>\n",
       "      <td>Waukegan, IL</td>\n",
       "      <td>None</td>\n",
       "      <td>https://www.indeed.com/rc/clk?jk=19d7778532e4b...</td>\n",
       "    </tr>\n",
       "    <tr>\n",
       "      <th>7</th>\n",
       "      <td>Data Scientist</td>\n",
       "      <td>Cognizant Technology Solutions</td>\n",
       "      <td>Chicago, IL 60601 (Loop area)</td>\n",
       "      <td>None</td>\n",
       "      <td>https://www.indeed.com/rc/clk?jk=263a7ae4d5745...</td>\n",
       "    </tr>\n",
       "    <tr>\n",
       "      <th>8</th>\n",
       "      <td>Data Scientist</td>\n",
       "      <td>Cook County Clerk's Office</td>\n",
       "      <td>Chicago, IL 60602 (The Loop area)</td>\n",
       "      <td>$62,913 - $79,930 a year</td>\n",
       "      <td>https://www.indeed.com/rc/clk?jk=397a1c5a3b8c6...</td>\n",
       "    </tr>\n",
       "    <tr>\n",
       "      <th>9</th>\n",
       "      <td>Associate Data Scientist</td>\n",
       "      <td>WALGREENS</td>\n",
       "      <td>Chicago, IL 60607 (West Loop Gate area)+1 loca...</td>\n",
       "      <td>None</td>\n",
       "      <td>https://www.indeed.com/rc/clk?jk=b8b108b4fdd18...</td>\n",
       "    </tr>\n",
       "    <tr>\n",
       "      <th>10</th>\n",
       "      <td>Data Scientist</td>\n",
       "      <td>NICE</td>\n",
       "      <td>Chicago, IL</td>\n",
       "      <td>None</td>\n",
       "      <td>https://www.indeed.com/rc/clk?jk=1bff4611932d7...</td>\n",
       "    </tr>\n",
       "    <tr>\n",
       "      <th>11</th>\n",
       "      <td>Data Scientist - Chicago</td>\n",
       "      <td>Shift Technology</td>\n",
       "      <td>Chicago, IL</td>\n",
       "      <td>None</td>\n",
       "      <td>https://www.indeed.com/rc/clk?jk=a23db5dc53daa...</td>\n",
       "    </tr>\n",
       "    <tr>\n",
       "      <th>12</th>\n",
       "      <td>Data Scientist</td>\n",
       "      <td>RiverTowns Group</td>\n",
       "      <td>Chicago, IL 60661 (West Loop Gate area)</td>\n",
       "      <td>$66,000 - $126,000 a year</td>\n",
       "      <td>https://www.indeed.com/company/RiverTowns-Grou...</td>\n",
       "    </tr>\n",
       "    <tr>\n",
       "      <th>13</th>\n",
       "      <td>Data Scientist</td>\n",
       "      <td>Federal Reserve Bank of Chicago</td>\n",
       "      <td>Chicago, IL 60604 (The Loop area)</td>\n",
       "      <td>None</td>\n",
       "      <td>https://www.indeed.com/rc/clk?jk=ed39fab998ef7...</td>\n",
       "    </tr>\n",
       "    <tr>\n",
       "      <th>14</th>\n",
       "      <td>Data Scientist</td>\n",
       "      <td>Inspire11</td>\n",
       "      <td>Chicago, IL</td>\n",
       "      <td>None</td>\n",
       "      <td>https://www.indeed.com/rc/clk?jk=a133ca87eea53...</td>\n",
       "    </tr>\n",
       "  </tbody>\n",
       "</table>\n",
       "</div>"
      ],
      "text/plain": [
       "                                            job_title  \\\n",
       "0                Senior Data Scientist - Ranking Team   \n",
       "1                                      Data Scientist   \n",
       "2                                      Data Scientist   \n",
       "3                                      Data Scientist   \n",
       "4   Sr. Data Scientist-Direct Hire (No Subcontractor)   \n",
       "5                                      Data Scientist   \n",
       "6                               Junior Data Scientist   \n",
       "7                                      Data Scientist   \n",
       "8                                      Data Scientist   \n",
       "9                            Associate Data Scientist   \n",
       "10                                     Data Scientist   \n",
       "11                           Data Scientist - Chicago   \n",
       "12                                     Data Scientist   \n",
       "13                                     Data Scientist   \n",
       "14                                     Data Scientist   \n",
       "\n",
       "                                        comp_name  \\\n",
       "0                                          Indeed   \n",
       "1                                         Nielsen   \n",
       "2                               Oak Street Health   \n",
       "3   Blue Cross Blue Shield of IL, MT, NM, OK & TX   \n",
       "4                        Modernagile Technologies   \n",
       "5                               Eligo Energy, LLC   \n",
       "6                             Abbott Laboratories   \n",
       "7                  Cognizant Technology Solutions   \n",
       "8                      Cook County Clerk's Office   \n",
       "9                                       WALGREENS   \n",
       "10                                           NICE   \n",
       "11                               Shift Technology   \n",
       "12                               RiverTowns Group   \n",
       "13                Federal Reserve Bank of Chicago   \n",
       "14                                      Inspire11   \n",
       "\n",
       "                                             location  \\\n",
       "0                      Chicago, IL•Temporarily Remote   \n",
       "1                                  Chicago, IL•Remote   \n",
       "2            Chicago, IL 60603 (The Loop area)•Remote   \n",
       "3                             Chicago, IL+5 locations   \n",
       "4                                         Chicago, IL   \n",
       "5                                         Chicago, IL   \n",
       "6                                        Waukegan, IL   \n",
       "7                       Chicago, IL 60601 (Loop area)   \n",
       "8                   Chicago, IL 60602 (The Loop area)   \n",
       "9   Chicago, IL 60607 (West Loop Gate area)+1 loca...   \n",
       "10                                        Chicago, IL   \n",
       "11                                        Chicago, IL   \n",
       "12            Chicago, IL 60661 (West Loop Gate area)   \n",
       "13                  Chicago, IL 60604 (The Loop area)   \n",
       "14                                        Chicago, IL   \n",
       "\n",
       "                        salary  \\\n",
       "0   $123,000 - $179,000 a year   \n",
       "1                         None   \n",
       "2                         None   \n",
       "3                         None   \n",
       "4   $110,000 - $120,000 a year   \n",
       "5                         None   \n",
       "6                         None   \n",
       "7                         None   \n",
       "8     $62,913 - $79,930 a year   \n",
       "9                         None   \n",
       "10                        None   \n",
       "11                        None   \n",
       "12   $66,000 - $126,000 a year   \n",
       "13                        None   \n",
       "14                        None   \n",
       "\n",
       "                                             post_url  \n",
       "0   https://www.indeed.com/pagead/clk?mo=r&ad=-6NY...  \n",
       "1   https://www.indeed.com/rc/clk?jk=9b8e8f066872d...  \n",
       "2   https://www.indeed.com/rc/clk?jk=d66dd8400f1e9...  \n",
       "3   https://www.indeed.com/rc/clk?jk=058f056bddd78...  \n",
       "4   https://www.indeed.com/company/Modernagile-Tec...  \n",
       "5   https://www.indeed.com/company/Eligo-Energy,-L...  \n",
       "6   https://www.indeed.com/rc/clk?jk=19d7778532e4b...  \n",
       "7   https://www.indeed.com/rc/clk?jk=263a7ae4d5745...  \n",
       "8   https://www.indeed.com/rc/clk?jk=397a1c5a3b8c6...  \n",
       "9   https://www.indeed.com/rc/clk?jk=b8b108b4fdd18...  \n",
       "10  https://www.indeed.com/rc/clk?jk=1bff4611932d7...  \n",
       "11  https://www.indeed.com/rc/clk?jk=a23db5dc53daa...  \n",
       "12  https://www.indeed.com/company/RiverTowns-Grou...  \n",
       "13  https://www.indeed.com/rc/clk?jk=ed39fab998ef7...  \n",
       "14  https://www.indeed.com/rc/clk?jk=a133ca87eea53...  "
      ]
     },
     "execution_count": 155,
     "metadata": {},
     "output_type": "execute_result"
    }
   ],
   "source": [
    "data_df"
   ]
  },
  {
   "cell_type": "code",
   "execution_count": null,
   "metadata": {},
   "outputs": [],
   "source": []
  }
 ],
 "metadata": {
  "kernelspec": {
   "display_name": "Python 3",
   "language": "python",
   "name": "python3"
  },
  "language_info": {
   "codemirror_mode": {
    "name": "ipython",
    "version": 3
   },
   "file_extension": ".py",
   "mimetype": "text/x-python",
   "name": "python",
   "nbconvert_exporter": "python",
   "pygments_lexer": "ipython3",
   "version": "3.8.5"
  }
 },
 "nbformat": 4,
 "nbformat_minor": 4
}
